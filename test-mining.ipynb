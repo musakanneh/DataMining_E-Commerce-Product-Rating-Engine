{
 "cells": [
  {
   "cell_type": "code",
   "execution_count": 4,
   "metadata": {},
   "outputs": [
    {
     "name": "stderr",
     "output_type": "stream",
     "text": [
      "[nltk_data] Downloading package punkt to /home/musakanneh/nltk_data...\n",
      "[nltk_data]   Package punkt is already up-to-date!\n"
     ]
    }
   ],
   "source": [
    "#tokenizing and covertint to lower-case\n",
    "import nltk.tokenize\n",
    "import nltk\n",
    "nltk.download('punkt')\n",
    "raw = open(\"./dataset.txt\").read()\n",
    "raw = raw.lower()\n",
    "docs = nltk.tokenize.sent_tokenize(raw)\n",
    "docs = docs[0].split('\\n')"
   ]
  },
  {
   "cell_type": "code",
   "execution_count": 5,
   "metadata": {},
   "outputs": [],
   "source": [
    "#pre-processing punctuations\n",
    "from string import punctuation as punc\n",
    "for d in docs:\n",
    "    for ch in d:\n",
    "        if ch in punc:\n",
    "            d.replace(ch, '')"
   ]
  },
  {
   "cell_type": "code",
   "execution_count": 6,
   "metadata": {},
   "outputs": [],
   "source": [
    "#removing stopwords, stemming words \n",
    "from sklearn.feature_extraction.stop_words import ENGLISH_STOP_WORDS\n",
    "from nltk.stem import PorterStemmer\n",
    "ps = PorterStemmer()            \n",
    "for d in docs:\n",
    "    for token in nltk.tokenize.word_tokenize(d):\n",
    "        if token in ENGLISH_STOP_WORDS:\n",
    "            d.replace(token, '')\n",
    "        d.replace(token, ps.stem(token))"
   ]
  },
  {
   "cell_type": "code",
   "execution_count": 7,
   "metadata": {},
   "outputs": [
    {
     "name": "stdout",
     "output_type": "stream",
     "text": [
      "D0: this receipe is very special forcooking : cooking\n",
      "D1: i like to cook but it usually takes longer : cooking\n",
      "D2: my pariorities in cooking include pastas and soup : cooking\n",
      "D3: one needs to stay fit while playing professional sport : sport\n",
      "Enter your text: Love cooking\n"
     ]
    }
   ],
   "source": [
    "# asking for the test document from the user through direct input\n",
    "for i in range(len(docs)):\n",
    "    print('D' + str(i) + \": \" + docs[i])\n",
    "test = input(\"Enter your text: \")\n",
    "docs.append(test + \":\")\n",
    "\n",
    "#separating input documents from labels, stripping off the unwanted spaces\n",
    "X, y = [], []\n",
    "for d in docs:\n",
    "    X.append(d[:d.index(\":\")].lstrip().rstrip())\n",
    "    y.append(d[d.index(\":\")+1:].lstrip().rstrip())"
   ]
  },
  {
   "cell_type": "code",
   "execution_count": 8,
   "metadata": {},
   "outputs": [
    {
     "name": "stdout",
     "output_type": "stream",
     "text": [
      "<bound method _cs_matrix.toarray of <5x31 sparse matrix of type '<class 'numpy.float64'>'\n",
      "\twith 33 stored elements in Compressed Sparse Row format>>\n"
     ]
    }
   ],
   "source": [
    "#Vectorizing with Tfidf vectorizer\n",
    "from sklearn.feature_extraction.text import TfidfVectorizer\n",
    "vectorizer = TfidfVectorizer()\n",
    "vec = vectorizer.fit_transform(X)\n",
    "print(vec.toarray)"
   ]
  },
  {
   "cell_type": "code",
   "execution_count": 9,
   "metadata": {},
   "outputs": [
    {
     "ename": "AttributeError",
     "evalue": "module 'sklearn' has no attribute 'neighbors'",
     "output_type": "error",
     "traceback": [
      "\u001b[0;31m---------------------------------------------------------------------------\u001b[0m",
      "\u001b[0;31mAttributeError\u001b[0m                            Traceback (most recent call last)",
      "\u001b[0;32m<ipython-input-9-f7078806b29b>\u001b[0m in \u001b[0;36m<module>\u001b[0;34m\u001b[0m\n\u001b[1;32m      1\u001b[0m \u001b[0;31m#training KNN Classifier\u001b[0m\u001b[0;34m\u001b[0m\u001b[0;34m\u001b[0m\u001b[0;34m\u001b[0m\u001b[0m\n\u001b[1;32m      2\u001b[0m \u001b[0;32mimport\u001b[0m \u001b[0msklearn\u001b[0m\u001b[0;34m\u001b[0m\u001b[0;34m\u001b[0m\u001b[0m\n\u001b[0;32m----> 3\u001b[0;31m \u001b[0mclf\u001b[0m \u001b[0;34m=\u001b[0m \u001b[0msklearn\u001b[0m\u001b[0;34m.\u001b[0m\u001b[0mneighbors\u001b[0m\u001b[0;34m.\u001b[0m\u001b[0mKNeighborsClassifier\u001b[0m\u001b[0;34m(\u001b[0m\u001b[0;36m1\u001b[0m\u001b[0;34m)\u001b[0m\u001b[0;34m\u001b[0m\u001b[0;34m\u001b[0m\u001b[0m\n\u001b[0m\u001b[1;32m      4\u001b[0m \u001b[0mclf\u001b[0m\u001b[0;34m.\u001b[0m\u001b[0mfit\u001b[0m\u001b[0;34m(\u001b[0m\u001b[0mvec\u001b[0m\u001b[0;34m[\u001b[0m\u001b[0;34m:\u001b[0m\u001b[0;36m6\u001b[0m\u001b[0;34m]\u001b[0m\u001b[0;34m,\u001b[0m \u001b[0my\u001b[0m\u001b[0;34m[\u001b[0m\u001b[0;34m:\u001b[0m\u001b[0;36m6\u001b[0m\u001b[0;34m]\u001b[0m\u001b[0;34m)\u001b[0m\u001b[0;34m\u001b[0m\u001b[0;34m\u001b[0m\u001b[0m\n\u001b[1;32m      5\u001b[0m \u001b[0mprint\u001b[0m\u001b[0;34m(\u001b[0m\u001b[0;34m'Label: '\u001b[0m\u001b[0;34m,\u001b[0m \u001b[0mclf\u001b[0m\u001b[0;34m.\u001b[0m\u001b[0mpredict\u001b[0m\u001b[0;34m(\u001b[0m\u001b[0mvec\u001b[0m\u001b[0;34m[\u001b[0m\u001b[0;36m6\u001b[0m\u001b[0;34m]\u001b[0m\u001b[0;34m)\u001b[0m\u001b[0;34m)\u001b[0m\u001b[0;34m\u001b[0m\u001b[0;34m\u001b[0m\u001b[0m\n",
      "\u001b[0;31mAttributeError\u001b[0m: module 'sklearn' has no attribute 'neighbors'"
     ]
    }
   ],
   "source": [
    "#training KNN Classifier\n",
    "import sklearn\n",
    "clf = sklearn.neighbors.KNeighborsClassifier(1)\n",
    "clf.fit(vec[:6], y[:6])\n",
    "print('Label: ', clf.predict(vec[6]))"
   ]
  },
  {
   "cell_type": "code",
   "execution_count": 12,
   "metadata": {},
   "outputs": [
    {
     "name": "stdout",
     "output_type": "stream",
     "text": [
      "Subjective statement, Negative opinion of strength: 0.81\n"
     ]
    },
    {
     "name": "stderr",
     "output_type": "stream",
     "text": [
      "[nltk_data] Downloading package wordnet to\n",
      "[nltk_data]     /home/musakanneh/nltk_data...\n",
      "[nltk_data]   Package wordnet is already up-to-date!\n"
     ]
    },
    {
     "ename": "AttributeError",
     "evalue": "module 'sklearn' has no attribute 'neighbors'",
     "output_type": "error",
     "traceback": [
      "\u001b[0;31m---------------------------------------------------------------------------\u001b[0m",
      "\u001b[0;31mAttributeError\u001b[0m                            Traceback (most recent call last)",
      "\u001b[0;32m<ipython-input-12-a44d12bed4b3>\u001b[0m in \u001b[0;36m<module>\u001b[0;34m\u001b[0m\n\u001b[1;32m     29\u001b[0m \u001b[0;34m\u001b[0m\u001b[0m\n\u001b[1;32m     30\u001b[0m \u001b[0;31m#nearest documents\u001b[0m\u001b[0;34m\u001b[0m\u001b[0;34m\u001b[0m\u001b[0;34m\u001b[0m\u001b[0m\n\u001b[0;32m---> 31\u001b[0;31m \u001b[0mnbrs\u001b[0m \u001b[0;34m=\u001b[0m \u001b[0msklearn\u001b[0m\u001b[0;34m.\u001b[0m\u001b[0mneighbors\u001b[0m\u001b[0;34m.\u001b[0m\u001b[0mNearestNeighbors\u001b[0m\u001b[0;34m(\u001b[0m\u001b[0mn_neighbors\u001b[0m\u001b[0;34m=\u001b[0m\u001b[0;36m2\u001b[0m\u001b[0;34m)\u001b[0m\u001b[0;34m\u001b[0m\u001b[0;34m\u001b[0m\u001b[0m\n\u001b[0m\u001b[1;32m     32\u001b[0m \u001b[0mnbrs\u001b[0m\u001b[0;34m.\u001b[0m\u001b[0mfit\u001b[0m\u001b[0;34m(\u001b[0m\u001b[0mvec\u001b[0m\u001b[0;34m[\u001b[0m\u001b[0;34m:\u001b[0m\u001b[0;36m6\u001b[0m\u001b[0;34m]\u001b[0m\u001b[0;34m)\u001b[0m\u001b[0;34m\u001b[0m\u001b[0;34m\u001b[0m\u001b[0m\n\u001b[1;32m     33\u001b[0m \u001b[0mclosest_docs\u001b[0m \u001b[0;34m=\u001b[0m \u001b[0mnbrs\u001b[0m\u001b[0;34m.\u001b[0m\u001b[0mkneighbors\u001b[0m\u001b[0;34m(\u001b[0m\u001b[0mvec\u001b[0m\u001b[0;34m[\u001b[0m\u001b[0;36m6\u001b[0m\u001b[0;34m]\u001b[0m\u001b[0;34m)\u001b[0m\u001b[0;34m\u001b[0m\u001b[0;34m\u001b[0m\u001b[0m\n",
      "\u001b[0;31mAttributeError\u001b[0m: module 'sklearn' has no attribute 'neighbors'"
     ]
    }
   ],
   "source": [
    "#sentiment analysis\n",
    "import nltk\n",
    "nltk.download('wordnet')\n",
    "from nltk.corpus import wordnet\n",
    "\n",
    "test_tokens = test.split(' ') \n",
    "good = wordnet.synsets('good')\n",
    "bad = wordnet.synsets('evil')\n",
    "score_pos = score_neg = 0\n",
    "\n",
    "for token in test_tokens:\n",
    "    t = wordnet.synsets(token)\n",
    "    \n",
    "    if len(t) > 0:\n",
    "        sim_good = wordnet.wup_similarity(good[0], t[0])\n",
    "        sim_bad = wordnet.wup_similarity(bad[0], t[0])\n",
    "        \n",
    "        if(sim_good is not None) :\n",
    "            score_pos = score_pos + sim_good\n",
    "        if(sim_bad is not None):\n",
    "            score_neg = score_neg + sim_bad\n",
    "\n",
    "if(score_neg - score_pos > 0.1):\n",
    "    print('Subjective statement, Negative opinion of strength: %.2f' %score_neg)\n",
    "elif(score_pos - score_neg > 0.1):\n",
    "    print('Subjective statement, Positive opinion of strength: %.2f' %score_pos)\n",
    "else:\n",
    "    print('Objective statement, No opinion showed')\n",
    "    \n",
    "#nearest documents    \n",
    "nbrs = sklearn.neighbors.NearestNeighbors(n_neighbors=2)\n",
    "nbrs.fit(vec[:6])\n",
    "closest_docs = nbrs.kneighbors(vec[6])\n",
    "print('Recommended readings are documents with IDs ', closest_docs[1])\n",
    "print('having distances ', closest_docs[0])"
   ]
  },
  {
   "cell_type": "code",
   "execution_count": null,
   "metadata": {},
   "outputs": [],
   "source": []
  }
 ],
 "metadata": {
  "kernelspec": {
   "display_name": "Python 3",
   "language": "python",
   "name": "python3"
  },
  "language_info": {
   "codemirror_mode": {
    "name": "ipython",
    "version": 3
   },
   "file_extension": ".py",
   "mimetype": "text/x-python",
   "name": "python",
   "nbconvert_exporter": "python",
   "pygments_lexer": "ipython3",
   "version": "3.6.9"
  }
 },
 "nbformat": 4,
 "nbformat_minor": 4
}
